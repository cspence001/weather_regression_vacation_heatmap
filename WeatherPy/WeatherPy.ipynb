{
 "cells": [
  {
   "cell_type": "markdown",
   "metadata": {},
   "source": [
    "# WeatherPy\n",
    "----\n",
    "\n",
    "#### Note\n",
    "* Instructions have been included for each segment. You do not have to follow them exactly, but they are included to help you think through the steps."
   ]
  },
  {
   "cell_type": "code",
   "execution_count": 1,
   "metadata": {},
   "outputs": [
    {
     "name": "stdout",
     "output_type": "stream",
     "text": [
      "Requirement already satisfied: citipy in /opt/anaconda3/lib/python3.8/site-packages (0.0.5)\n",
      "Requirement already satisfied: kdtree>=0.12 in /opt/anaconda3/lib/python3.8/site-packages (from citipy) (0.16)\n",
      "Note: you may need to restart the kernel to use updated packages.\n"
     ]
    }
   ],
   "source": [
    "pip install citipy"
   ]
  },
  {
   "cell_type": "code",
   "execution_count": 2,
   "metadata": {
    "scrolled": true
   },
   "outputs": [],
   "source": [
    "# Dependencies and Setup\n",
    "import matplotlib.pyplot as plt\n",
    "import pandas as pd\n",
    "import numpy as np\n",
    "import requests\n",
    "import time\n",
    "from scipy.stats import linregress\n",
    "\n",
    "# Import API key\n",
    "from api_keys import weather_api_key\n",
    "\n",
    "# Incorporated citipy to determine city based on latitude and longitude\n",
    "from citipy import citipy\n",
    "\n",
    "# Output File (CSV)\n",
    "output_data_file = \"Resources/cities.csv\"\n",
    "\n",
    "# Range of latitudes and longitudes\n",
    "lat_range = (-90, 90)\n",
    "lng_range = (-180, 180)"
   ]
  },
  {
   "cell_type": "markdown",
   "metadata": {},
   "source": [
    "## Generate Cities List"
   ]
  },
  {
   "cell_type": "code",
   "execution_count": 3,
   "metadata": {},
   "outputs": [
    {
     "data": {
      "text/plain": [
       "612"
      ]
     },
     "execution_count": 3,
     "metadata": {},
     "output_type": "execute_result"
    }
   ],
   "source": [
    "# List for holding lat_lngs and cities\n",
    "lat_lngs = []\n",
    "cities = []\n",
    "\n",
    "# Create a set of random lat and lng combinations\n",
    "lats = np.random.uniform(lat_range[0], lat_range[1], size=1500)\n",
    "lngs = np.random.uniform(lng_range[0], lng_range[1], size=1500)\n",
    "lat_lngs = zip(lats, lngs)\n",
    "\n",
    "# Identify nearest city for each lat, lng combination\n",
    "for lat_lng in lat_lngs:\n",
    "    city = citipy.nearest_city(lat_lng[0], lat_lng[1]).city_name\n",
    "    \n",
    "    # If the city is unique, then add it to a our cities list\n",
    "    if city not in cities:\n",
    "        cities.append(city)\n",
    "\n",
    "# Print the city count to confirm sufficient count\n",
    "len(cities)"
   ]
  },
  {
   "cell_type": "code",
   "execution_count": 4,
   "metadata": {},
   "outputs": [
    {
     "name": "stdout",
     "output_type": "stream",
     "text": [
      "['barra do garcas', 'geraldton', 'nizhneyansk', 'ankazobe', 'boa vista', 'yellowknife', 'ushuaia', 'hermanus', 'atuona', 'arraial do cabo', 'busselton', 'port elizabeth', 'dzhusaly', 'puerto escondido', 'katsuura', 'isangel', 'jarjis', 'lumphat', 'albany', 'mahebourg', 'saint-joseph', 'felidhoo', 'samarai', 'hilo', 'ancud', 'robertsport', 'bethel', 'codrington', 'new norfolk', 'hobart', 'intipuca', 'bandarbeyla', 'jamestown', 'puerto ayora', 'thompson', 'fowa', 'buique', 'lahij', 'ternate', 'puri', 'saint-philippe', 'port hardy', 'barentsburg', 'rikitea', 'saint george', 'castro', 'georgetown', 'belyy yar', 'saskylakh', 'makaha', 'okhotsk', 'san policarpo', 'qaanaaq', 'hambantota', 'marcona', 'kedainiai', 'nome', 'panjab', 'palmer', 'samusu', 'talmenka', 'boldumsaz', 'muncar', 'leningradskiy', 'poso', 'sentyabrskiy', 'touros', 'hohhot', 'aloleng', 'punta arenas', 'mar del plata', 'san patricio', 'ponta do sol', 'poum', 'coahuayana', 'agapovka', 'kapaa', 'nikolskoye', 'takhtamygda', 'faanui', 'bluff', 'raymondville', 'cape town', 'kovdor', 'bage', 'meyungs', 'lavrentiya', 'komsomolskiy', 'kodiak', 'caravelas', 'manali', 'lompoc', 'torbay', 'avarua', 'luderitz', 'kloulklubed', 'turiacu', 'kargat', 'vila nova de milfontes', 'pacific grove', 'nouadhibou', 'taolanaro', 'saldanha', 'meulaboh', 'port hedland', 'namatanai', 'sitka', 'vaini', 'srednekolymsk', 'pleasant point', 'rio grande', 'bredasdorp', 'hasaki', 'formoso do araguaia', 'victoria', 'marrakesh', 'upington', 'tsihombe', 'khandyga', 'tezu', 'beringovskiy', 'norman wells', 'butaritari', 'hofn', 'port macquarie', 'abidjan', 'lugo', 'illoqqortoormiut', 'krasnoselkup', 'bonavista', 'zacualpan', 'chapais', 'amderma', 'upernavik', 'falkoping', 'naze', 'praia da vitoria', 'tabou', 'grand gaube', 'mehamn', 'tiksi', 'chuy', 'port alfred', 'vila velha', 'galle', 'nuuk', 'lieksa', 'svetlyy', 'vestmannaeyjar', 'yuzhno-yeniseyskiy', 'umm kaddadah', 'mataura', 'marsh harbour', 'pevek', 'airai', 'paamiut', 'nosy varika', 'yoichi', 'nabannagan', 'ilulissat', 'high level', 'namibe', 'mackay', 'north bend', 'fergus falls', 'spearfish', 'hithadhoo', 'sechura', 'koumac', 'deputatskiy', 'la rioja', 'maceio', 'qaqortoq', 'dolbeau', 'salalah', 'boguchany', 'leh', 'kruisfontein', 'bilma', 'lebu', 'berlevag', 'tabiauea', 'tongliao', 'north platte', 'storforshei', 'sunrise manor', 'alofi', 'vilaka', 'souillac', 'sao joao da barra', 'vardo', 'oranjemund', 'kungurtug', 'iquique', 'chicama', 'kaitangata', 'luanda', 'chabahar', 'akureyri', 'kousseri', 'hamilton', 'merauke', 'aripuana', 'pitimbu', 'puerto del rosario', 'cherskiy', 'petropavlovsk-kamchatskiy', 'provideniya', 'montepuez', 'lakes entrance', 'severo-kurilsk', 'sakakah', 'flinders', 'steinbach', 'andover', 'longyearbyen', 'margate', 'henties bay', 'general pico', 'barrow', 'faya', 'coquimbo', 'luoyang', 'zyryanskoye', 'nanortalik', 'agirish', 'manassas', 'talah', 'celestun', 'pisco', 'richards bay', 'kolokani', 'tautira', 'maniitsoq', 'sao filipe', 'frederico westphalen', 'cap malheureux', 'bako', 'attawapiskat', 'palasa', 'san juan de uraba', 'naryan-mar', 'yulara', 'chioggia', 'fortuna', 'khormuj', 'banda aceh', 'arlit', 'lorengau', 'palabuhanratu', 'tessalit', 'voznesenskoye', 'yarkovo', 'tra vinh', 'ust-nera', 'chimoio', 'ghorawal', 'kavieng', 'dhanwar', 'igrim', 'cabo san lucas', 'tuatapere', 'san cristobal', 'camacha', 'goderich', 'verkhnevilyuysk', 'chokurdakh', 'outjo', 'san borja', 'chake chake', 'bengkulu', 'kingaroy', 'tazovskiy', 'benguela', 'honningsvag', 'kazalinsk', 'blagoveshchensk', 'campeche', 'asahikawa', 'fez', 'vaitupu', 'hobyo', 'khatanga', 'acari', 'clyde river', 'baneh', 'vallenar', 'nokaneng', 'kilinochchi', 'virginia beach', 'gold coast', 'dikson', 'bambous virieux', 'ilheus', 'saint-augustin', 'akdepe', 'olafsvik', 'itoman', 'chara', 'umzimvubu', 'haines junction', 'darhan', 'tuktoyaktuk', 'lalomanu', 'kismayo', 'port-cartier', 'east london', 'santa marta', 'valparaiso', 'egvekinot', 'xining', 'kantang', 'ribeira grande', 'narsaq', 'la ronge', 'galiwinku', 'la asuncion', 'kifri', 'klaksvik', 'urambo', 'eldikan', 'sambava', 'yabelo', 'joniskis', 'natal', 'gohpur', 'ajdabiya', 'labuhan', 'atar', 'marawi', 'menongue', 'jiuquan', 'teguldet', 'pouebo', 'lluta', 'kahului', 'pontianak', 'luganville', 'borskoye', 'ekhabi', 'komatipoort', 'imbituba', 'bac lieu', 'vila', 'ciras', 'kudahuvadhoo', 'lardos', 'genhe', 'odweyne', 'maningrida', 'cheuskiny', 'road town', 'constitucion', 'limon', 'lajedo', 'bima', 'lagoa', 'port blair', 'viedma', 'bathsheba', 'paracuru', 'porto novo', 'manzhouli', 'chumikan', 'kafue', 'carnarvon', 'zheleznodorozhnyy', 'esperance', 'yangjiang', 'batagay', 'simao', 'comodoro rivadavia', 'dingle', 'agras', 'alyangula', 'khandagayty', 'san ramon', 'los llanos de aridane', 'dakar', 'marzuq', 'iqaluit', 'maryville', 'saint-pierre', 'halalo', 'nyrob', 'plettenberg bay', 'lander', 'udachnyy', 'muros', 'raudeberg', 'mergui', 'port-gentil', 'viligili', 'jvari', 'muroto', 'jiayuguan', 'mys shmidta', 'bata', 'shelburne', 'amapa', 'baruun-urt', 'tasbuget', 'spencer', 'ahar', 'cockburn town', 'prainha', 'namuac', 'evensk', 'lixourion', 'sovetskoye', 'belushya guba', 'baykit', 'vikulovo', 'puerto baquerizo moreno', 'paris', 'madang', 'osorno', 'singkang', 'sisimiut', 'anadyr', 'florianopolis', 'emerald', 'djougou', 'otane', 'saint-francois', 'tasiilaq', 'malwan', 'college', 'khani', 'kokopo', 'amurzet', 'necochea', 'ostrovnoy', 'acapulco', 'port lincoln', 'batemans bay', 'lagos', 'conceicao do araguaia', 'serik', 'alanya', 'manggar', 'kinshasa', 'zahesi', 'oudtshoorn', 'daru', 'panzhihua', 'agudos', 'santa maria', 'saleaula', 'tandahimba', 'kopavogur', 'tabas', 'kichera', 'laguna', 'nago', 'karamea', 'ahipara', 'mount gambier', 'grand-santi', 'vestmanna', 'escanaba', 'srandakan', 'puerto leguizamo', 'ponta delgada', 'tiznit', 'bonaventure', 'vadgaon', 'matamoros', 'bodo', 'xiongshi', 'galveston', 'novyy urengoy', 'wanning', 'grand river south east', 'quatre cocos', 'rafraf', 'babylon', 'marang', 'san pedro', 'naqadeh', 'lata', 'sanghar', 'talnakh', 'pakokku', 'bom jesus', 'sao jose da coroa grande', 'antigonish', 'avera', 'andenes', 'ilihan', 'troyes', 'karnal', 'wanaka', 'solnechnyy', 'cerkezkoy', 'lolua', 'tilichiki', 'alpinopolis', 'portland', 'kuching', 'bang saphan', 'kununurra', 'makokou', 'polunochnoye', 'chiang kham', 'kuroiso', 'nukus', 'grindavik', 'dabat', 'hastings', 'nantucket', 'flagstaff', 'kaffrine', 'port hawkesbury', 'frederikshavn', 'neiafu', 'huarmey', 'broome', 'barrancas', 'ina', 'misratah', 'banjarmasin', 'sortland', 'toppenish', 'cidreira', 'treinta y tres', 'teya', 'riyadh', 'kokkola', 'poenari', 'saint anthony', 'georgiyevka', 'vao', 'mayo', 'jutai', 'yar-sale', 'conde', 'belaya gora', 'vila do maio', 'ushtobe', 'nagato', 'aksu', 'porto murtinho', 'camargo', 'umm lajj', 'siderno', 'kota belud', 'semnan', 'forestville', 'boca do acre', 'ketchikan', 'gornoye loo', 'buraydah', 'staryy nadym', 'xai-xai', 'kangaatsiaq', 'santa ines', 'sur', 'moussoro', 'kenai', 'aswan', 'zarubino', 'potam', 'lyudinovo', 'san andres', 'maraa', 'kavaratti', 'vostochnyy', 'markova', 'ordynskoye', 'knysna', 'uglovka', 'walvis bay', 'adamas', 'igarka', 'rawson', 'bucerias', 'shingu', 'duba-yurt', 'shaowu', 'sebinkarahisar', 'farafangana', 'gimli', 'mananjary', 'hualmay', 'khasan', 'severnyy-kospashskiy', 'fort-shevchenko', 'steubenville', 'urgut', 'kincardine', 'indi', 'ada', 'roberval', 'cagayan de tawi-tawi', 'fukue', 'kaeo', 'san quintin', 'ayan', 'tual', 'jambi', 'aguia branca', 'tyukhtet', 'louisbourg', 'migori', 'tortoli', 'hay river', 'chulym', 'wajir', 'lazarev', 'santa lucia', 'mancio lima']\n"
     ]
    }
   ],
   "source": [
    "print(cities)"
   ]
  },
  {
   "cell_type": "markdown",
   "metadata": {},
   "source": [
    "### Perform API Calls\n",
    "* Perform a weather check on each city using a series of successive API calls.\n",
    "* Include a print log of each city as it'sbeing processed (with the city number and city name).\n"
   ]
  },
  {
   "cell_type": "code",
   "execution_count": 5,
   "metadata": {},
   "outputs": [
    {
     "name": "stdout",
     "output_type": "stream",
     "text": [
      "65e67b99df7e4d1a7b6d4e19ea6783d8\n"
     ]
    }
   ],
   "source": [
    "print(weather_api_key)"
   ]
  },
  {
   "cell_type": "code",
   "execution_count": 6,
   "metadata": {},
   "outputs": [
    {
     "data": {
      "text/plain": [
       "{'coord': {'lon': -124.1573, 'lat': 40.5982},\n",
       " 'weather': [{'id': 803,\n",
       "   'main': 'Clouds',\n",
       "   'description': 'broken clouds',\n",
       "   'icon': '04d'}],\n",
       " 'base': 'stations',\n",
       " 'main': {'temp': 60.55,\n",
       "  'feels_like': 59.16,\n",
       "  'temp_min': 58.98,\n",
       "  'temp_max': 66.18,\n",
       "  'pressure': 1017,\n",
       "  'humidity': 61},\n",
       " 'visibility': 10000,\n",
       " 'wind': {'speed': 3, 'deg': 279, 'gust': 11.99},\n",
       " 'clouds': {'all': 75},\n",
       " 'dt': 1633559745,\n",
       " 'sys': {'type': 2,\n",
       "  'id': 2040243,\n",
       "  'country': 'US',\n",
       "  'sunrise': 1633529905,\n",
       "  'sunset': 1633571434},\n",
       " 'timezone': -25200,\n",
       " 'id': 5563839,\n",
       " 'name': 'Fortuna',\n",
       " 'cod': 200}"
      ]
     },
     "execution_count": 6,
     "metadata": {},
     "output_type": "execute_result"
    }
   ],
   "source": [
    "#making calls: https://openweathermap.org/current#data\n",
    "#establish base url\n",
    "base_url = \"http://api.openweathermap.org/data/2.5/weather?\"\n",
    "units = \"imperial\"\n",
    "#build query url\n",
    "weather_url = base_url + \"appid=\" + weather_api_key + \"&units=\" + units + \"&q=\" \n",
    "\n",
    "#get sample weather of city\n",
    "samp_weather = requests.get(weather_url + \"fortuna\").json()\n",
    "samp_weather\n"
   ]
  },
  {
   "cell_type": "code",
   "execution_count": 7,
   "metadata": {},
   "outputs": [
    {
     "name": "stdout",
     "output_type": "stream",
     "text": [
      "barra do garcas,3470709 found! Appending stats\n",
      "geraldton,2070998 found! Appending stats\n",
      "nizhneyansk not found! NaN\n",
      "ankazobe,1072849 found! Appending stats\n",
      "boa vista,3664980 found! Appending stats\n",
      "yellowknife,6185377 found! Appending stats\n",
      "ushuaia,3833367 found! Appending stats\n",
      "hermanus,3366880 found! Appending stats\n",
      "atuona,4020109 found! Appending stats\n",
      "arraial do cabo,3471451 found! Appending stats\n",
      "busselton,2075265 found! Appending stats\n",
      "port elizabeth,964420 found! Appending stats\n",
      "dzhusaly not found! NaN\n",
      "puerto escondido,3520994 found! Appending stats\n",
      "katsuura,2112309 found! Appending stats\n",
      "isangel,2136825 found! Appending stats\n",
      "jarjis not found! NaN\n",
      "lumphat,1830377 found! Appending stats\n",
      "albany,5106841 found! Appending stats\n",
      "mahebourg,934322 found! Appending stats\n",
      "saint-joseph,6690296 found! Appending stats\n",
      "felidhoo not found! NaN\n",
      "samarai,2132606 found! Appending stats\n",
      "hilo,5855927 found! Appending stats\n",
      "ancud,3899695 found! Appending stats\n",
      "robertsport,2274275 found! Appending stats\n",
      "bethel,5282297 found! Appending stats\n",
      "codrington,2171099 found! Appending stats\n",
      "new norfolk,2155415 found! Appending stats\n",
      "hobart,2163355 found! Appending stats\n",
      "intipuca,3585480 found! Appending stats\n",
      "bandarbeyla,64814 found! Appending stats\n",
      "jamestown,5122534 found! Appending stats\n",
      "puerto ayora,3652764 found! Appending stats\n",
      "thompson,6165406 found! Appending stats\n",
      "fowa,2352175 found! Appending stats\n",
      "buique,3404766 found! Appending stats\n",
      "lahij,6201197 found! Appending stats\n",
      "ternate,1624041 found! Appending stats\n",
      "puri,1259184 found! Appending stats\n",
      "saint-philippe,935215 found! Appending stats\n",
      "port hardy,6111862 found! Appending stats\n",
      "barentsburg not found! NaN\n",
      "rikitea,4030556 found! Appending stats\n",
      "saint george,5546220 found! Appending stats\n",
      "castro,3466704 found! Appending stats\n",
      "georgetown,1735106 found! Appending stats\n",
      "belyy yar,1510377 found! Appending stats\n",
      "saskylakh,2017155 found! Appending stats\n",
      "makaha,5850511 found! Appending stats\n",
      "okhotsk,2122605 found! Appending stats\n",
      "san policarpo,1688696 found! Appending stats\n",
      "qaanaaq,3831208 found! Appending stats\n",
      "hambantota,1244926 found! Appending stats\n",
      "marcona not found! NaN\n",
      "kedainiai,598272 found! Appending stats\n",
      "nome,5870133 found! Appending stats\n",
      "panjab,1131162 found! Appending stats\n",
      "palmer,4946620 found! Appending stats\n",
      "samusu not found! NaN\n",
      "talmenka,1490266 found! Appending stats\n",
      "boldumsaz,601661 found! Appending stats\n",
      "muncar,1634718 found! Appending stats\n",
      "leningradskiy,2123814 found! Appending stats\n",
      "poso,1630723 found! Appending stats\n",
      "sentyabrskiy not found! NaN\n",
      "touros,3386213 found! Appending stats\n",
      "hohhot,2036892 found! Appending stats\n",
      "aloleng,1731298 found! Appending stats\n",
      "punta arenas,3874787 found! Appending stats\n",
      "mar del plata,3430863 found! Appending stats\n",
      "san patricio,4726521 found! Appending stats\n",
      "ponta do sol,2264557 found! Appending stats\n",
      "poum,2138555 found! Appending stats\n",
      "coahuayana,4013679 found! Appending stats\n",
      "agapovka,584051 found! Appending stats\n",
      "kapaa,5848280 found! Appending stats\n",
      "nikolskoye,546105 found! Appending stats\n",
      "takhtamygda,2015707 found! Appending stats\n",
      "faanui,4034551 found! Appending stats\n",
      "bluff,2206939 found! Appending stats\n",
      "raymondville,4721703 found! Appending stats\n",
      "cape town,3369157 found! Appending stats\n",
      "kovdor,543508 found! Appending stats\n",
      "bage,3471196 found! Appending stats\n",
      "meyungs not found! NaN\n",
      "lavrentiya,4031637 found! Appending stats\n",
      "komsomolskiy,1513491 found! Appending stats\n",
      "kodiak,5866583 found! Appending stats\n",
      "caravelas,3466980 found! Appending stats\n",
      "manali,1263968 found! Appending stats\n",
      "lompoc,5367788 found! Appending stats\n",
      "torbay,6167817 found! Appending stats\n",
      "avarua,4035715 found! Appending stats\n",
      "luderitz,3355672 found! Appending stats\n",
      "kloulklubed,7671223 found! Appending stats\n",
      "turiacu,3385908 found! Appending stats\n",
      "kargat,1504380 found! Appending stats\n",
      "vila nova de milfontes,2261617 found! Appending stats\n",
      "pacific grove,5380437 found! Appending stats\n",
      "nouadhibou,2377457 found! Appending stats\n",
      "taolanaro not found! NaN\n",
      "saldanha,3361934 found! Appending stats\n",
      "meulaboh,1214488 found! Appending stats\n",
      "port hedland,2063042 found! Appending stats\n",
      "namatanai,2090021 found! Appending stats\n",
      "sitka,5557293 found! Appending stats\n",
      "vaini,4032243 found! Appending stats\n",
      "srednekolymsk,2121025 found! Appending stats\n",
      "pleasant point,2184512 found! Appending stats\n",
      "rio grande,3451138 found! Appending stats\n",
      "bredasdorp,1015776 found! Appending stats\n",
      "hasaki,2112802 found! Appending stats\n",
      "formoso do araguaia not found! NaN\n",
      "victoria,1819729 found! Appending stats\n",
      "marrakesh,2542997 found! Appending stats\n",
      "upington,945945 found! Appending stats\n",
      "tsihombe not found! NaN\n",
      "khandyga,2022773 found! Appending stats\n",
      "tezu,1254709 found! Appending stats\n",
      "beringovskiy,2126710 found! Appending stats\n",
      "norman wells,6089245 found! Appending stats\n",
      "butaritari,2110227 found! Appending stats\n",
      "hofn,2630299 found! Appending stats\n",
      "port macquarie,2152659 found! Appending stats\n",
      "abidjan,2293538 found! Appending stats\n",
      "lugo,3117813 found! Appending stats\n",
      "illoqqortoormiut not found! NaN\n",
      "krasnoselkup,1502073 found! Appending stats\n",
      "bonavista,5905393 found! Appending stats\n",
      "zacualpan,3979819 found! Appending stats\n",
      "chapais,5919850 found! Appending stats\n",
      "amderma not found! NaN\n",
      "upernavik,3418910 found! Appending stats\n",
      "falkoping not found! NaN\n",
      "naze,1855540 found! Appending stats\n",
      "praia da vitoria,3372760 found! Appending stats\n",
      "tabou,2281120 found! Appending stats\n",
      "grand gaube,934479 found! Appending stats\n",
      "mehamn,778707 found! Appending stats\n",
      "tiksi,2015306 found! Appending stats\n",
      "chuy,3443061 found! Appending stats\n",
      "port alfred,964432 found! Appending stats\n",
      "vila velha,3445026 found! Appending stats\n",
      "galle,1246294 found! Appending stats\n",
      "nuuk,3421319 found! Appending stats\n",
      "lieksa,648090 found! Appending stats\n",
      "svetlyy,485660 found! Appending stats\n",
      "vestmannaeyjar,3412093 found! Appending stats\n",
      "yuzhno-yeniseyskiy not found! NaN\n",
      "umm kaddadah,364933 found! Appending stats\n",
      "mataura,6201424 found! Appending stats\n",
      "marsh harbour,3571913 found! Appending stats\n",
      "pevek,2122090 found! Appending stats\n",
      "airai,1651810 found! Appending stats\n",
      "paamiut,3421193 found! Appending stats\n",
      "nosy varika,1058080 found! Appending stats\n",
      "yoichi,2129218 found! Appending stats\n",
      "nabannagan,1698914 found! Appending stats\n",
      "ilulissat,3423146 found! Appending stats\n",
      "high level,5975004 found! Appending stats\n",
      "namibe,3347019 found! Appending stats\n",
      "mackay,2159220 found! Appending stats\n",
      "north bend,5742974 found! Appending stats\n",
      "fergus falls,5026416 found! Appending stats\n",
      "spearfish,5769288 found! Appending stats\n",
      "hithadhoo,1282256 found! Appending stats\n",
      "sechura,3691954 found! Appending stats\n",
      "koumac,2140558 found! Appending stats\n",
      "deputatskiy,2028164 found! Appending stats\n",
      "la rioja,3336897 found! Appending stats\n",
      "maceio,3395981 found! Appending stats\n",
      "qaqortoq,3420846 found! Appending stats\n",
      "dolbeau not found! NaN\n",
      "salalah,286621 found! Appending stats\n",
      "boguchany,1509844 found! Appending stats\n",
      "leh,1264976 found! Appending stats\n",
      "kruisfontein,986717 found! Appending stats\n",
      "bilma,2446796 found! Appending stats\n",
      "lebu,3883457 found! Appending stats\n",
      "berlevag,780687 found! Appending stats\n",
      "tabiauea not found! NaN\n",
      "tongliao,2034400 found! Appending stats\n",
      "north platte,5697939 found! Appending stats\n",
      "storforshei,3145614 found! Appending stats\n",
      "sunrise manor,5513343 found! Appending stats\n",
      "alofi,4036284 found! Appending stats\n",
      "vilaka,454130 found! Appending stats\n",
      "souillac,933995 found! Appending stats\n",
      "sao joao da barra,3448903 found! Appending stats\n",
      "vardo,777019 found! Appending stats\n",
      "oranjemund,3354071 found! Appending stats\n",
      "kungurtug,1501377 found! Appending stats\n",
      "iquique,3887127 found! Appending stats\n",
      "chicama,3698359 found! Appending stats\n",
      "kaitangata,2208248 found! Appending stats\n",
      "luanda,2240449 found! Appending stats\n",
      "chabahar,1161724 found! Appending stats\n",
      "akureyri,2633274 found! Appending stats\n",
      "kousseri,2229798 found! Appending stats\n",
      "hamilton,4513583 found! Appending stats\n",
      "merauke,2082539 found! Appending stats\n",
      "aripuana,3665202 found! Appending stats\n",
      "pitimbu,3391889 found! Appending stats\n",
      "puerto del rosario,2512186 found! Appending stats\n",
      "cherskiy,2126199 found! Appending stats\n",
      "petropavlovsk-kamchatskiy,2122104 found! Appending stats\n",
      "provideniya,4031574 found! Appending stats\n",
      "montepuez,1037125 found! Appending stats\n"
     ]
    },
    {
     "name": "stdout",
     "output_type": "stream",
     "text": [
      "lakes entrance,2160735 found! Appending stats\n",
      "severo-kurilsk,2121385 found! Appending stats\n",
      "sakakah,102527 found! Appending stats\n",
      "flinders,6255012 found! Appending stats\n",
      "steinbach,2828737 found! Appending stats\n",
      "andover,2657324 found! Appending stats\n",
      "longyearbyen,2729907 found! Appending stats\n",
      "margate,2643044 found! Appending stats\n",
      "henties bay,3356832 found! Appending stats\n",
      "general pico,3855075 found! Appending stats\n",
      "barrow,5880054 found! Appending stats\n",
      "faya,110690 found! Appending stats\n",
      "coquimbo,3893629 found! Appending stats\n",
      "luoyang,1801792 found! Appending stats\n",
      "zyryanskoye,1484892 found! Appending stats\n",
      "nanortalik,3421765 found! Appending stats\n",
      "agirish,1512101 found! Appending stats\n",
      "manassas,4771401 found! Appending stats\n",
      "talah not found! NaN\n",
      "celestun,3531368 found! Appending stats\n",
      "pisco,3932145 found! Appending stats\n",
      "richards bay,962367 found! Appending stats\n",
      "kolokani,2454955 found! Appending stats\n",
      "tautira,4033557 found! Appending stats\n",
      "maniitsoq,3421982 found! Appending stats\n",
      "sao filipe,3374210 found! Appending stats\n",
      "frederico westphalen,3462956 found! Appending stats\n",
      "cap malheureux,934649 found! Appending stats\n",
      "bako,342856 found! Appending stats\n",
      "attawapiskat not found! NaN\n",
      "palasa,1260771 found! Appending stats\n",
      "san juan de uraba,3669461 found! Appending stats\n",
      "naryan-mar,523392 found! Appending stats\n",
      "yulara,6355222 found! Appending stats\n",
      "chioggia,3178784 found! Appending stats\n",
      "fortuna,5563839 found! Appending stats\n",
      "khormuj not found! NaN\n",
      "banda aceh,1215502 found! Appending stats\n",
      "arlit,2447513 found! Appending stats\n",
      "lorengau,2092164 found! Appending stats\n",
      "palabuhanratu not found! NaN\n",
      "tessalit,2449893 found! Appending stats\n",
      "voznesenskoye,471172 found! Appending stats\n",
      "yarkovo,1486369 found! Appending stats\n",
      "tra vinh,1563926 found! Appending stats\n",
      "ust-nera,2120048 found! Appending stats\n",
      "chimoio,1049261 found! Appending stats\n",
      "ghorawal,1271264 found! Appending stats\n",
      "kavieng,2094342 found! Appending stats\n",
      "dhanwar,1272902 found! Appending stats\n",
      "igrim,1505965 found! Appending stats\n",
      "cabo san lucas,3985710 found! Appending stats\n",
      "tuatapere,2180815 found! Appending stats\n",
      "san cristobal,3628473 found! Appending stats\n",
      "camacha,2270385 found! Appending stats\n",
      "goderich,5962442 found! Appending stats\n",
      "verkhnevilyuysk,2013639 found! Appending stats\n",
      "chokurdakh,2126123 found! Appending stats\n",
      "outjo,3353715 found! Appending stats\n",
      "san borja,3905792 found! Appending stats\n",
      "chake chake,160677 found! Appending stats\n",
      "bengkulu,1649150 found! Appending stats\n",
      "kingaroy,2161376 found! Appending stats\n",
      "tazovskiy,1489853 found! Appending stats\n",
      "benguela,3351663 found! Appending stats\n",
      "honningsvag,779554 found! Appending stats\n",
      "kazalinsk not found! NaN\n",
      "blagoveshchensk,2026609 found! Appending stats\n",
      "campeche,3531730 found! Appending stats\n",
      "asahikawa,2130629 found! Appending stats\n",
      "fez,2548885 found! Appending stats\n",
      "vaitupu not found! NaN\n",
      "hobyo,57000 found! Appending stats\n",
      "khatanga,2022572 found! Appending stats\n",
      "acari,3948613 found! Appending stats\n",
      "clyde river,5924351 found! Appending stats\n",
      "baneh,141584 found! Appending stats\n",
      "vallenar,3868633 found! Appending stats\n",
      "nokaneng,933211 found! Appending stats\n",
      "kilinochchi,1240372 found! Appending stats\n",
      "virginia beach,4791259 found! Appending stats\n",
      "gold coast,2165087 found! Appending stats\n",
      "dikson,1507390 found! Appending stats\n",
      "bambous virieux,1106677 found! Appending stats\n",
      "ilheus,3461408 found! Appending stats\n",
      "saint-augustin,6137462 found! Appending stats\n",
      "akdepe,601551 found! Appending stats\n",
      "olafsvik,3414079 found! Appending stats\n",
      "itoman,1861280 found! Appending stats\n",
      "chara,2025630 found! Appending stats\n",
      "umzimvubu not found! NaN\n",
      "haines junction,5969025 found! Appending stats\n",
      "darhan,2031964 found! Appending stats\n",
      "tuktoyaktuk,6170031 found! Appending stats\n",
      "lalomanu not found! NaN\n",
      "kismayo,55671 found! Appending stats\n",
      "port-cartier,6111696 found! Appending stats\n",
      "east london,1006984 found! Appending stats\n",
      "santa marta,3668605 found! Appending stats\n",
      "valparaiso,3868626 found! Appending stats\n",
      "egvekinot,4031742 found! Appending stats\n",
      "xining,1788852 found! Appending stats\n",
      "kantang,1153072 found! Appending stats\n",
      "ribeira grande,3372707 found! Appending stats\n",
      "narsaq,3421719 found! Appending stats\n",
      "la ronge,6050066 found! Appending stats\n",
      "galiwinku not found! NaN\n",
      "la asuncion,3480908 found! Appending stats\n",
      "kifri,94298 found! Appending stats\n",
      "klaksvik,2618795 found! Appending stats\n",
      "urambo,149172 found! Appending stats\n",
      "eldikan not found! NaN\n",
      "sambava,1056899 found! Appending stats\n",
      "yabelo,326036 found! Appending stats\n",
      "joniskis,598796 found! Appending stats\n",
      "natal,3394023 found! Appending stats\n",
      "gohpur,1271074 found! Appending stats\n",
      "ajdabiya,89113 found! Appending stats\n",
      "labuhan,8079926 found! Appending stats\n",
      "atar,2381334 found! Appending stats\n",
      "marawi,1701054 found! Appending stats\n",
      "menongue,3347353 found! Appending stats\n",
      "jiuquan,1279945 found! Appending stats\n",
      "teguldet,1489822 found! Appending stats\n",
      "pouebo,2138607 found! Appending stats\n",
      "lluta,3936088 found! Appending stats\n",
      "kahului,5847411 found! Appending stats\n",
      "pontianak,1630789 found! Appending stats\n",
      "luganville,2136150 found! Appending stats\n",
      "borskoye,571987 found! Appending stats\n",
      "ekhabi,2122614 found! Appending stats\n",
      "komatipoort,988290 found! Appending stats\n",
      "imbituba,3461370 found! Appending stats\n",
      "bac lieu,1591474 found! Appending stats\n",
      "vila,7117100 found! Appending stats\n",
      "ciras not found! NaN\n",
      "kudahuvadhoo,1337607 found! Appending stats\n",
      "lardos,408689 found! Appending stats\n",
      "genhe,2037252 found! Appending stats\n",
      "odweyne,53372 found! Appending stats\n",
      "maningrida,2067089 found! Appending stats\n",
      "cheuskiny not found! NaN\n",
      "road town,3577430 found! Appending stats\n",
      "constitucion,3893726 found! Appending stats\n",
      "limon,3622247 found! Appending stats\n",
      "lajedo,3396496 found! Appending stats\n",
      "bima,1648759 found! Appending stats\n",
      "lagoa,3372964 found! Appending stats\n",
      "port blair,1259385 found! Appending stats\n",
      "viedma,3832899 found! Appending stats\n",
      "bathsheba,3374083 found! Appending stats\n",
      "paracuru,3393115 found! Appending stats\n",
      "porto novo,2392087 found! Appending stats\n",
      "manzhouli,2035836 found! Appending stats\n",
      "chumikan,2025256 found! Appending stats\n",
      "kafue,915883 found! Appending stats\n",
      "carnarvon,2074865 found! Appending stats\n",
      "zheleznodorozhnyy,463355 found! Appending stats\n",
      "esperance,2071860 found! Appending stats\n",
      "yangjiang,1806408 found! Appending stats\n",
      "batagay,2027044 found! Appending stats\n",
      "simao,1794209 found! Appending stats\n",
      "comodoro rivadavia,3860443 found! Appending stats\n",
      "dingle,1714733 found! Appending stats\n",
      "agras,2743356 found! Appending stats\n",
      "alyangula,2079582 found! Appending stats\n",
      "khandagayty,1503796 found! Appending stats\n",
      "san ramon,5392593 found! Appending stats\n",
      "los llanos de aridane,2514651 found! Appending stats\n",
      "dakar,2253354 found! Appending stats\n",
      "marzuq,72181 found! Appending stats\n",
      "iqaluit,5983720 found! Appending stats\n",
      "maryville,4639848 found! Appending stats\n",
      "saint-pierre,935214 found! Appending stats\n",
      "halalo not found! NaN\n",
      "nyrob,516588 found! Appending stats\n",
      "plettenberg bay,964712 found! Appending stats\n",
      "lander,5830007 found! Appending stats\n",
      "udachnyy,2014624 found! Appending stats\n",
      "muros,3115824 found! Appending stats\n",
      "raudeberg,3146487 found! Appending stats\n",
      "mergui not found! NaN\n",
      "port-gentil,2396518 found! Appending stats\n",
      "viligili not found! NaN\n",
      "jvari,614740 found! Appending stats\n",
      "muroto,1856392 found! Appending stats\n",
      "jiayuguan,1280957 found! Appending stats\n",
      "mys shmidta not found! NaN\n",
      "bata,2310046 found! Appending stats\n",
      "shelburne,6145890 found! Appending stats\n",
      "amapa,3407762 found! Appending stats\n",
      "baruun-urt,2032614 found! Appending stats\n",
      "tasbuget not found! NaN\n",
      "spencer,4877138 found! Appending stats\n",
      "ahar,144616 found! Appending stats\n",
      "cockburn town,3576994 found! Appending stats\n",
      "prainha,3391287 found! Appending stats\n",
      "namuac,1698354 found! Appending stats\n",
      "evensk,2125693 found! Appending stats\n",
      "lixourion,258175 found! Appending stats\n",
      "sovetskoye,1491219 found! Appending stats\n",
      "belushya guba not found! NaN\n",
      "baykit,1510689 found! Appending stats\n",
      "vikulovo,1487112 found! Appending stats\n",
      "puerto baquerizo moreno,3652758 found! Appending stats\n",
      "paris,2988507 found! Appending stats\n",
      "madang,2091996 found! Appending stats\n",
      "osorno,3877949 found! Appending stats\n",
      "singkang,1732871 found! Appending stats\n",
      "sisimiut,3419842 found! Appending stats\n",
      "anadyr,2127202 found! Appending stats\n"
     ]
    },
    {
     "name": "stdout",
     "output_type": "stream",
     "text": [
      "florianopolis,6323121 found! Appending stats\n",
      "emerald,2167426 found! Appending stats\n",
      "djougou,2394560 found! Appending stats\n",
      "otane,2185329 found! Appending stats\n",
      "saint-francois,2980080 found! Appending stats\n",
      "tasiilaq,3424607 found! Appending stats\n",
      "malwan not found! NaN\n",
      "college,5859699 found! Appending stats\n",
      "khani,610864 found! Appending stats\n",
      "kokopo,2093685 found! Appending stats\n",
      "amurzet,2027740 found! Appending stats\n",
      "necochea,3430443 found! Appending stats\n",
      "ostrovnoy,556268 found! Appending stats\n",
      "acapulco,3533462 found! Appending stats\n",
      "port lincoln,2063036 found! Appending stats\n",
      "batemans bay,2176639 found! Appending stats\n",
      "lagos,2332453 found! Appending stats\n",
      "conceicao do araguaia,3401845 found! Appending stats\n",
      "serik,301101 found! Appending stats\n",
      "alanya,324190 found! Appending stats\n",
      "manggar,1636426 found! Appending stats\n",
      "kinshasa,2314302 found! Appending stats\n",
      "zahesi,611093 found! Appending stats\n",
      "oudtshoorn,967106 found! Appending stats\n",
      "daru,2098329 found! Appending stats\n",
      "panzhihua,6929460 found! Appending stats\n",
      "agudos,3472825 found! Appending stats\n",
      "santa maria,3450083 found! Appending stats\n",
      "saleaula not found! NaN\n",
      "tandahimba,877391 found! Appending stats\n",
      "kopavogur,3415212 found! Appending stats\n",
      "tabas,113659 found! Appending stats\n",
      "kichera,2022129 found! Appending stats\n",
      "laguna,5364271 found! Appending stats\n",
      "nago,1856068 found! Appending stats\n",
      "karamea not found! NaN\n",
      "ahipara,2194098 found! Appending stats\n",
      "mount gambier,2156643 found! Appending stats\n",
      "grand-santi,3381538 found! Appending stats\n",
      "vestmanna,2610343 found! Appending stats\n",
      "escanaba,4992232 found! Appending stats\n",
      "srandakan,1626493 found! Appending stats\n",
      "puerto leguizamo,3671437 found! Appending stats\n",
      "ponta delgada,3372783 found! Appending stats\n",
      "tiznit,2527087 found! Appending stats\n",
      "bonaventure,6943825 found! Appending stats\n",
      "vadgaon,1272691 found! Appending stats\n",
      "matamoros,3996426 found! Appending stats\n",
      "bodo,3160881 found! Appending stats\n",
      "xiongshi not found! NaN\n",
      "galveston,4692856 found! Appending stats\n",
      "novyy urengoy,1496511 found! Appending stats\n",
      "wanning,1791779 found! Appending stats\n",
      "grand river south east not found! NaN\n",
      "quatre cocos,1106643 found! Appending stats\n",
      "rafraf,2467813 found! Appending stats\n",
      "babylon,5107612 found! Appending stats\n",
      "marang,1734715 found! Appending stats\n",
      "san pedro,1688781 found! Appending stats\n",
      "naqadeh,122698 found! Appending stats\n",
      "lata,2738381 found! Appending stats\n",
      "sanghar,1166164 found! Appending stats\n",
      "talnakh,1490256 found! Appending stats\n",
      "pakokku,1302439 found! Appending stats\n",
      "bom jesus,3405304 found! Appending stats\n",
      "sao jose da coroa grande,3388456 found! Appending stats\n",
      "antigonish,5886182 found! Appending stats\n",
      "avera,4231997 found! Appending stats\n",
      "andenes,3163146 found! Appending stats\n",
      "ilihan,1711061 found! Appending stats\n",
      "troyes,2971548 found! Appending stats\n",
      "karnal,1267708 found! Appending stats\n",
      "wanaka,2184707 found! Appending stats\n",
      "solnechnyy,2016307 found! Appending stats\n",
      "cerkezkoy,749274 found! Appending stats\n",
      "lolua not found! NaN\n",
      "tilichiki,2120591 found! Appending stats\n",
      "alpinopolis,3472507 found! Appending stats\n",
      "portland,5746545 found! Appending stats\n",
      "kuching,1735634 found! Appending stats\n",
      "bang saphan,1157662 found! Appending stats\n",
      "kununurra,2068110 found! Appending stats\n",
      "makokou,2399371 found! Appending stats\n",
      "polunochnoye,1494482 found! Appending stats\n",
      "chiang kham,1611202 found! Appending stats\n",
      "kuroiso,2112077 found! Appending stats\n",
      "nukus,601294 found! Appending stats\n",
      "grindavik,3416888 found! Appending stats\n",
      "dabat,340358 found! Appending stats\n",
      "hastings,2647356 found! Appending stats\n",
      "nantucket,4944903 found! Appending stats\n",
      "flagstaff,5294810 found! Appending stats\n",
      "kaffrine,2251007 found! Appending stats\n",
      "port hawkesbury,6111867 found! Appending stats\n",
      "frederikshavn,2621927 found! Appending stats\n",
      "neiafu,4032420 found! Appending stats\n",
      "huarmey,3939168 found! Appending stats\n",
      "broome,5110365 found! Appending stats\n",
      "barrancas,3689162 found! Appending stats\n",
      "ina,1861641 found! Appending stats\n",
      "misratah,2214846 found! Appending stats\n",
      "banjarmasin,1650213 found! Appending stats\n",
      "sortland,3137405 found! Appending stats\n",
      "toppenish,5813747 found! Appending stats\n",
      "cidreira,3466165 found! Appending stats\n",
      "treinta y tres,3439781 found! Appending stats\n",
      "teya,1489656 found! Appending stats\n",
      "riyadh,108410 found! Appending stats\n",
      "kokkola,651943 found! Appending stats\n",
      "poenari,670244 found! Appending stats\n",
      "saint anthony,5044290 found! Appending stats\n",
      "georgiyevka,1524243 found! Appending stats\n",
      "vao,2137773 found! Appending stats\n",
      "mayo,4362001 found! Appending stats\n",
      "jutai,3663693 found! Appending stats\n",
      "yar-sale,1486321 found! Appending stats\n",
      "conde,3385077 found! Appending stats\n",
      "belaya gora,2126785 found! Appending stats\n",
      "vila do maio,3374120 found! Appending stats\n",
      "ushtobe,1517637 found! Appending stats\n",
      "nagato,1899102 found! Appending stats\n",
      "aksu,1529660 found! Appending stats\n",
      "porto murtinho,3452712 found! Appending stats\n",
      "camargo,4013724 found! Appending stats\n",
      "umm lajj,100926 found! Appending stats\n",
      "siderno,6540819 found! Appending stats\n",
      "kota belud,1736660 found! Appending stats\n",
      "semnan,116402 found! Appending stats\n",
      "forestville,4355274 found! Appending stats\n",
      "boca do acre,3664956 found! Appending stats\n",
      "ketchikan,5554428 found! Appending stats\n",
      "gornoye loo,823676 found! Appending stats\n",
      "buraydah,107304 found! Appending stats\n",
      "staryy nadym,1490918 found! Appending stats\n",
      "xai-xai,1024552 found! Appending stats\n",
      "kangaatsiaq,3422683 found! Appending stats\n",
      "santa ines,3389609 found! Appending stats\n",
      "sur,286245 found! Appending stats\n",
      "moussoro,2427336 found! Appending stats\n",
      "kenai,5866063 found! Appending stats\n",
      "aswan,359792 found! Appending stats\n",
      "zarubino,2012646 found! Appending stats\n",
      "potam,3992154 found! Appending stats\n",
      "lyudinovo,532459 found! Appending stats\n",
      "san andres,3670218 found! Appending stats\n",
      "maraa,3663475 found! Appending stats\n",
      "kavaratti,1267390 found! Appending stats\n",
      "vostochnyy,471501 found! Appending stats\n",
      "markova,701802 found! Appending stats\n",
      "ordynskoye,1496100 found! Appending stats\n",
      "knysna,988698 found! Appending stats\n",
      "uglovka,479523 found! Appending stats\n",
      "walvis bay,3359638 found! Appending stats\n",
      "adamas,265711 found! Appending stats\n",
      "igarka,1505991 found! Appending stats\n",
      "rawson,3839307 found! Appending stats\n",
      "bucerias,4016734 found! Appending stats\n",
      "shingu,1847947 found! Appending stats\n",
      "duba-yurt,564821 found! Appending stats\n",
      "shaowu,1795857 found! Appending stats\n",
      "sebinkarahisar,739914 found! Appending stats\n",
      "farafangana,1065158 found! Appending stats\n",
      "gimli,5961417 found! Appending stats\n",
      "mananjary,1061335 found! Appending stats\n",
      "hualmay,3939761 found! Appending stats\n",
      "khasan,2039557 found! Appending stats\n",
      "severnyy-kospashskiy,496307 found! Appending stats\n",
      "fort-shevchenko,609906 found! Appending stats\n",
      "steubenville,5173048 found! Appending stats\n",
      "urgut,1215839 found! Appending stats\n",
      "kincardine,2645525 found! Appending stats\n",
      "indi,1269751 found! Appending stats\n",
      "ada,5583739 found! Appending stats\n",
      "roberval,6125653 found! Appending stats\n",
      "cagayan de tawi-tawi not found! NaN\n",
      "fukue,1863997 found! Appending stats\n",
      "kaeo,2189343 found! Appending stats\n",
      "san quintin,3984997 found! Appending stats\n",
      "ayan,2027316 found! Appending stats\n",
      "tual,1623197 found! Appending stats\n",
      "jambi,1642858 found! Appending stats\n",
      "aguia branca,3472820 found! Appending stats\n",
      "tyukhtet,1488774 found! Appending stats\n",
      "louisbourg not found! NaN\n",
      "migori,186731 found! Appending stats\n",
      "tortoli,2522890 found! Appending stats\n",
      "hay river,5972762 found! Appending stats\n",
      "chulym,1507679 found! Appending stats\n",
      "wajir,178443 found! Appending stats\n",
      "lazarev,2123836 found! Appending stats\n",
      "santa lucia,2511150 found! Appending stats\n",
      "mancio lima,3663516 found! Appending stats\n"
     ]
    }
   ],
   "source": [
    "#set lists\n",
    "city_name = []\n",
    "country = []\n",
    "city_id = []\n",
    "latitude = []\n",
    "longitude = []\n",
    "temperature = []\n",
    "humidity = []\n",
    "cloudiness = []\n",
    "wind_speed = []\n",
    "\n",
    "#loop through cities\n",
    "for city in cities:\n",
    "    \n",
    "    #query\n",
    "    city_data = requests.get(weather_url + city).json()\n",
    "    \n",
    "    try:\n",
    "        city_name.append(city_data['name'])\n",
    "        country.append(city_data['sys']['country'])\n",
    "        city_id.append(city_data[\"id\"])\n",
    "        latitude.append(city_data['coord']['lat'])\n",
    "        longitude.append(city_data['coord']['lon'])\n",
    "        temperature.append(city_data['main']['temp'])\n",
    "        humidity.append(city_data['main']['humidity'])\n",
    "        cloudiness.append(city_data['clouds']['all'])\n",
    "        wind_speed.append(city_data['wind']['speed'])\n",
    "        \n",
    "        print(f\"{city},{city_data['id']} found! Appending stats\")\n",
    "        \n",
    "    except:\n",
    "        #append null\n",
    "        print(f\"{city} not found! NaN\")\n",
    "        pass"
   ]
  },
  {
   "cell_type": "code",
   "execution_count": 8,
   "metadata": {
    "scrolled": true
   },
   "outputs": [
    {
     "data": {
      "text/html": [
       "<div>\n",
       "<style scoped>\n",
       "    .dataframe tbody tr th:only-of-type {\n",
       "        vertical-align: middle;\n",
       "    }\n",
       "\n",
       "    .dataframe tbody tr th {\n",
       "        vertical-align: top;\n",
       "    }\n",
       "\n",
       "    .dataframe thead th {\n",
       "        text-align: right;\n",
       "    }\n",
       "</style>\n",
       "<table border=\"1\" class=\"dataframe\">\n",
       "  <thead>\n",
       "    <tr style=\"text-align: right;\">\n",
       "      <th></th>\n",
       "      <th>City</th>\n",
       "      <th>Country</th>\n",
       "      <th>City ID</th>\n",
       "      <th>Latitude</th>\n",
       "      <th>Longitude</th>\n",
       "      <th>temperature</th>\n",
       "      <th>humidity</th>\n",
       "      <th>cloudiness</th>\n",
       "      <th>wind speed</th>\n",
       "    </tr>\n",
       "  </thead>\n",
       "  <tbody>\n",
       "    <tr>\n",
       "      <th>0</th>\n",
       "      <td>Barra do Garças</td>\n",
       "      <td>BR</td>\n",
       "      <td>3470709</td>\n",
       "      <td>-15.8900</td>\n",
       "      <td>-52.2567</td>\n",
       "      <td>95.58</td>\n",
       "      <td>41</td>\n",
       "      <td>20</td>\n",
       "      <td>5.75</td>\n",
       "    </tr>\n",
       "    <tr>\n",
       "      <th>1</th>\n",
       "      <td>Geraldton</td>\n",
       "      <td>AU</td>\n",
       "      <td>2070998</td>\n",
       "      <td>-28.7667</td>\n",
       "      <td>114.6000</td>\n",
       "      <td>39.61</td>\n",
       "      <td>93</td>\n",
       "      <td>0</td>\n",
       "      <td>5.75</td>\n",
       "    </tr>\n",
       "    <tr>\n",
       "      <th>2</th>\n",
       "      <td>Ankazobe</td>\n",
       "      <td>MG</td>\n",
       "      <td>1072849</td>\n",
       "      <td>-18.3167</td>\n",
       "      <td>47.1167</td>\n",
       "      <td>59.41</td>\n",
       "      <td>65</td>\n",
       "      <td>98</td>\n",
       "      <td>1.99</td>\n",
       "    </tr>\n",
       "    <tr>\n",
       "      <th>3</th>\n",
       "      <td>Boa Vista</td>\n",
       "      <td>BR</td>\n",
       "      <td>3664980</td>\n",
       "      <td>2.8197</td>\n",
       "      <td>-60.6733</td>\n",
       "      <td>91.38</td>\n",
       "      <td>49</td>\n",
       "      <td>75</td>\n",
       "      <td>6.91</td>\n",
       "    </tr>\n",
       "    <tr>\n",
       "      <th>4</th>\n",
       "      <td>Yellowknife</td>\n",
       "      <td>CA</td>\n",
       "      <td>6185377</td>\n",
       "      <td>62.4560</td>\n",
       "      <td>-114.3525</td>\n",
       "      <td>40.35</td>\n",
       "      <td>89</td>\n",
       "      <td>90</td>\n",
       "      <td>1.99</td>\n",
       "    </tr>\n",
       "    <tr>\n",
       "      <th>...</th>\n",
       "      <td>...</td>\n",
       "      <td>...</td>\n",
       "      <td>...</td>\n",
       "      <td>...</td>\n",
       "      <td>...</td>\n",
       "      <td>...</td>\n",
       "      <td>...</td>\n",
       "      <td>...</td>\n",
       "      <td>...</td>\n",
       "    </tr>\n",
       "    <tr>\n",
       "      <th>563</th>\n",
       "      <td>Chulym</td>\n",
       "      <td>RU</td>\n",
       "      <td>1507679</td>\n",
       "      <td>55.0997</td>\n",
       "      <td>80.9572</td>\n",
       "      <td>32.09</td>\n",
       "      <td>80</td>\n",
       "      <td>99</td>\n",
       "      <td>6.13</td>\n",
       "    </tr>\n",
       "    <tr>\n",
       "      <th>564</th>\n",
       "      <td>Wajir</td>\n",
       "      <td>KE</td>\n",
       "      <td>178443</td>\n",
       "      <td>1.7471</td>\n",
       "      <td>40.0573</td>\n",
       "      <td>77.18</td>\n",
       "      <td>64</td>\n",
       "      <td>54</td>\n",
       "      <td>15.37</td>\n",
       "    </tr>\n",
       "    <tr>\n",
       "      <th>565</th>\n",
       "      <td>Lazarev</td>\n",
       "      <td>RU</td>\n",
       "      <td>2123836</td>\n",
       "      <td>52.2250</td>\n",
       "      <td>141.5131</td>\n",
       "      <td>41.99</td>\n",
       "      <td>57</td>\n",
       "      <td>93</td>\n",
       "      <td>5.68</td>\n",
       "    </tr>\n",
       "    <tr>\n",
       "      <th>566</th>\n",
       "      <td>Santa Lucía</td>\n",
       "      <td>ES</td>\n",
       "      <td>2511150</td>\n",
       "      <td>27.9117</td>\n",
       "      <td>-15.5407</td>\n",
       "      <td>64.85</td>\n",
       "      <td>73</td>\n",
       "      <td>20</td>\n",
       "      <td>16.11</td>\n",
       "    </tr>\n",
       "    <tr>\n",
       "      <th>567</th>\n",
       "      <td>Mâncio Lima</td>\n",
       "      <td>BR</td>\n",
       "      <td>3663516</td>\n",
       "      <td>-7.6142</td>\n",
       "      <td>-72.8958</td>\n",
       "      <td>82.47</td>\n",
       "      <td>78</td>\n",
       "      <td>40</td>\n",
       "      <td>3.44</td>\n",
       "    </tr>\n",
       "  </tbody>\n",
       "</table>\n",
       "<p>568 rows × 9 columns</p>\n",
       "</div>"
      ],
      "text/plain": [
       "                City Country  City ID  Latitude  Longitude  temperature  \\\n",
       "0    Barra do Garças      BR  3470709  -15.8900   -52.2567        95.58   \n",
       "1          Geraldton      AU  2070998  -28.7667   114.6000        39.61   \n",
       "2           Ankazobe      MG  1072849  -18.3167    47.1167        59.41   \n",
       "3          Boa Vista      BR  3664980    2.8197   -60.6733        91.38   \n",
       "4        Yellowknife      CA  6185377   62.4560  -114.3525        40.35   \n",
       "..               ...     ...      ...       ...        ...          ...   \n",
       "563           Chulym      RU  1507679   55.0997    80.9572        32.09   \n",
       "564            Wajir      KE   178443    1.7471    40.0573        77.18   \n",
       "565          Lazarev      RU  2123836   52.2250   141.5131        41.99   \n",
       "566      Santa Lucía      ES  2511150   27.9117   -15.5407        64.85   \n",
       "567      Mâncio Lima      BR  3663516   -7.6142   -72.8958        82.47   \n",
       "\n",
       "     humidity  cloudiness  wind speed  \n",
       "0          41          20        5.75  \n",
       "1          93           0        5.75  \n",
       "2          65          98        1.99  \n",
       "3          49          75        6.91  \n",
       "4          89          90        1.99  \n",
       "..        ...         ...         ...  \n",
       "563        80          99        6.13  \n",
       "564        64          54       15.37  \n",
       "565        57          93        5.68  \n",
       "566        73          20       16.11  \n",
       "567        78          40        3.44  \n",
       "\n",
       "[568 rows x 9 columns]"
      ]
     },
     "execution_count": 8,
     "metadata": {},
     "output_type": "execute_result"
    }
   ],
   "source": [
    "#df\n",
    "weather_data = pd.DataFrame({\"City\" : pd.Series(city_name),\n",
    "            \"Country\" : pd.Series(country),\n",
    "            \"City ID\" : pd.Series(city_id),\n",
    "            \"Latitude\" : pd.Series(latitude),\n",
    "            \"Longitude\" : pd.Series(longitude),\n",
    "            \"temperature\" : pd.Series(temperature),\n",
    "            \"humidity\" : pd.Series(humidity),\n",
    "            \"cloudiness\" : pd.Series(cloudiness),\n",
    "            \"wind speed\" : pd.Series(wind_speed)\n",
    "            })\n",
    "\n",
    "weather_data \n",
    "        \n"
   ]
  },
  {
   "cell_type": "markdown",
   "metadata": {},
   "source": [
    "### Convert Raw Data to DataFrame\n",
    "* Export the city data into a .csv.\n",
    "* Display the DataFrame"
   ]
  },
  {
   "cell_type": "code",
   "execution_count": null,
   "metadata": {},
   "outputs": [],
   "source": []
  },
  {
   "cell_type": "code",
   "execution_count": 9,
   "metadata": {},
   "outputs": [
    {
     "data": {
      "text/html": [
       "<div>\n",
       "<style scoped>\n",
       "    .dataframe tbody tr th:only-of-type {\n",
       "        vertical-align: middle;\n",
       "    }\n",
       "\n",
       "    .dataframe tbody tr th {\n",
       "        vertical-align: top;\n",
       "    }\n",
       "\n",
       "    .dataframe thead th {\n",
       "        text-align: right;\n",
       "    }\n",
       "</style>\n",
       "<table border=\"1\" class=\"dataframe\">\n",
       "  <thead>\n",
       "    <tr style=\"text-align: right;\">\n",
       "      <th></th>\n",
       "      <th>City</th>\n",
       "      <th>Country</th>\n",
       "      <th>City ID</th>\n",
       "      <th>Latitude</th>\n",
       "      <th>Longitude</th>\n",
       "      <th>temperature</th>\n",
       "      <th>humidity</th>\n",
       "      <th>cloudiness</th>\n",
       "      <th>wind speed</th>\n",
       "    </tr>\n",
       "  </thead>\n",
       "  <tbody>\n",
       "    <tr>\n",
       "      <th>0</th>\n",
       "      <td>Barra do Garças</td>\n",
       "      <td>BR</td>\n",
       "      <td>3470709</td>\n",
       "      <td>-15.8900</td>\n",
       "      <td>-52.2567</td>\n",
       "      <td>95.58</td>\n",
       "      <td>41</td>\n",
       "      <td>20</td>\n",
       "      <td>5.75</td>\n",
       "    </tr>\n",
       "    <tr>\n",
       "      <th>1</th>\n",
       "      <td>Geraldton</td>\n",
       "      <td>AU</td>\n",
       "      <td>2070998</td>\n",
       "      <td>-28.7667</td>\n",
       "      <td>114.6000</td>\n",
       "      <td>39.61</td>\n",
       "      <td>93</td>\n",
       "      <td>0</td>\n",
       "      <td>5.75</td>\n",
       "    </tr>\n",
       "    <tr>\n",
       "      <th>2</th>\n",
       "      <td>Ankazobe</td>\n",
       "      <td>MG</td>\n",
       "      <td>1072849</td>\n",
       "      <td>-18.3167</td>\n",
       "      <td>47.1167</td>\n",
       "      <td>59.41</td>\n",
       "      <td>65</td>\n",
       "      <td>98</td>\n",
       "      <td>1.99</td>\n",
       "    </tr>\n",
       "    <tr>\n",
       "      <th>3</th>\n",
       "      <td>Boa Vista</td>\n",
       "      <td>BR</td>\n",
       "      <td>3664980</td>\n",
       "      <td>2.8197</td>\n",
       "      <td>-60.6733</td>\n",
       "      <td>91.38</td>\n",
       "      <td>49</td>\n",
       "      <td>75</td>\n",
       "      <td>6.91</td>\n",
       "    </tr>\n",
       "    <tr>\n",
       "      <th>4</th>\n",
       "      <td>Yellowknife</td>\n",
       "      <td>CA</td>\n",
       "      <td>6185377</td>\n",
       "      <td>62.4560</td>\n",
       "      <td>-114.3525</td>\n",
       "      <td>40.35</td>\n",
       "      <td>89</td>\n",
       "      <td>90</td>\n",
       "      <td>1.99</td>\n",
       "    </tr>\n",
       "  </tbody>\n",
       "</table>\n",
       "</div>"
      ],
      "text/plain": [
       "              City Country  City ID  Latitude  Longitude  temperature  \\\n",
       "0  Barra do Garças      BR  3470709  -15.8900   -52.2567        95.58   \n",
       "1        Geraldton      AU  2070998  -28.7667   114.6000        39.61   \n",
       "2         Ankazobe      MG  1072849  -18.3167    47.1167        59.41   \n",
       "3        Boa Vista      BR  3664980    2.8197   -60.6733        91.38   \n",
       "4      Yellowknife      CA  6185377   62.4560  -114.3525        40.35   \n",
       "\n",
       "   humidity  cloudiness  wind speed  \n",
       "0        41          20        5.75  \n",
       "1        93           0        5.75  \n",
       "2        65          98        1.99  \n",
       "3        49          75        6.91  \n",
       "4        89          90        1.99  "
      ]
     },
     "execution_count": 9,
     "metadata": {},
     "output_type": "execute_result"
    }
   ],
   "source": [
    "# Save the updated dataframe as a csv\n",
    "weather_data.to_csv(\"Resources/city_data.csv\", encoding=\"utf-8\", index=False)\n",
    "weather_data.head()"
   ]
  },
  {
   "cell_type": "markdown",
   "metadata": {},
   "source": [
    "## Inspect the data and remove the cities where the humidity > 100%.\n",
    "----\n",
    "Skip this step if there are no cities that have humidity > 100%. "
   ]
  },
  {
   "cell_type": "code",
   "execution_count": 10,
   "metadata": {},
   "outputs": [
    {
     "data": {
      "text/html": [
       "<div>\n",
       "<style scoped>\n",
       "    .dataframe tbody tr th:only-of-type {\n",
       "        vertical-align: middle;\n",
       "    }\n",
       "\n",
       "    .dataframe tbody tr th {\n",
       "        vertical-align: top;\n",
       "    }\n",
       "\n",
       "    .dataframe thead th {\n",
       "        text-align: right;\n",
       "    }\n",
       "</style>\n",
       "<table border=\"1\" class=\"dataframe\">\n",
       "  <thead>\n",
       "    <tr style=\"text-align: right;\">\n",
       "      <th></th>\n",
       "      <th>City</th>\n",
       "      <th>Country</th>\n",
       "      <th>City ID</th>\n",
       "      <th>Latitude</th>\n",
       "      <th>Longitude</th>\n",
       "      <th>temperature</th>\n",
       "      <th>humidity</th>\n",
       "      <th>cloudiness</th>\n",
       "      <th>wind speed</th>\n",
       "    </tr>\n",
       "  </thead>\n",
       "  <tbody>\n",
       "    <tr>\n",
       "      <th>0</th>\n",
       "      <td>Barra do Garças</td>\n",
       "      <td>BR</td>\n",
       "      <td>3470709</td>\n",
       "      <td>-15.8900</td>\n",
       "      <td>-52.2567</td>\n",
       "      <td>95.58</td>\n",
       "      <td>41</td>\n",
       "      <td>20</td>\n",
       "      <td>5.75</td>\n",
       "    </tr>\n",
       "    <tr>\n",
       "      <th>1</th>\n",
       "      <td>Geraldton</td>\n",
       "      <td>AU</td>\n",
       "      <td>2070998</td>\n",
       "      <td>-28.7667</td>\n",
       "      <td>114.6000</td>\n",
       "      <td>39.61</td>\n",
       "      <td>93</td>\n",
       "      <td>0</td>\n",
       "      <td>5.75</td>\n",
       "    </tr>\n",
       "    <tr>\n",
       "      <th>2</th>\n",
       "      <td>Ankazobe</td>\n",
       "      <td>MG</td>\n",
       "      <td>1072849</td>\n",
       "      <td>-18.3167</td>\n",
       "      <td>47.1167</td>\n",
       "      <td>59.41</td>\n",
       "      <td>65</td>\n",
       "      <td>98</td>\n",
       "      <td>1.99</td>\n",
       "    </tr>\n",
       "    <tr>\n",
       "      <th>3</th>\n",
       "      <td>Boa Vista</td>\n",
       "      <td>BR</td>\n",
       "      <td>3664980</td>\n",
       "      <td>2.8197</td>\n",
       "      <td>-60.6733</td>\n",
       "      <td>91.38</td>\n",
       "      <td>49</td>\n",
       "      <td>75</td>\n",
       "      <td>6.91</td>\n",
       "    </tr>\n",
       "    <tr>\n",
       "      <th>4</th>\n",
       "      <td>Yellowknife</td>\n",
       "      <td>CA</td>\n",
       "      <td>6185377</td>\n",
       "      <td>62.4560</td>\n",
       "      <td>-114.3525</td>\n",
       "      <td>40.35</td>\n",
       "      <td>89</td>\n",
       "      <td>90</td>\n",
       "      <td>1.99</td>\n",
       "    </tr>\n",
       "    <tr>\n",
       "      <th>...</th>\n",
       "      <td>...</td>\n",
       "      <td>...</td>\n",
       "      <td>...</td>\n",
       "      <td>...</td>\n",
       "      <td>...</td>\n",
       "      <td>...</td>\n",
       "      <td>...</td>\n",
       "      <td>...</td>\n",
       "      <td>...</td>\n",
       "    </tr>\n",
       "    <tr>\n",
       "      <th>563</th>\n",
       "      <td>Chulym</td>\n",
       "      <td>RU</td>\n",
       "      <td>1507679</td>\n",
       "      <td>55.0997</td>\n",
       "      <td>80.9572</td>\n",
       "      <td>32.09</td>\n",
       "      <td>80</td>\n",
       "      <td>99</td>\n",
       "      <td>6.13</td>\n",
       "    </tr>\n",
       "    <tr>\n",
       "      <th>564</th>\n",
       "      <td>Wajir</td>\n",
       "      <td>KE</td>\n",
       "      <td>178443</td>\n",
       "      <td>1.7471</td>\n",
       "      <td>40.0573</td>\n",
       "      <td>77.18</td>\n",
       "      <td>64</td>\n",
       "      <td>54</td>\n",
       "      <td>15.37</td>\n",
       "    </tr>\n",
       "    <tr>\n",
       "      <th>565</th>\n",
       "      <td>Lazarev</td>\n",
       "      <td>RU</td>\n",
       "      <td>2123836</td>\n",
       "      <td>52.2250</td>\n",
       "      <td>141.5131</td>\n",
       "      <td>41.99</td>\n",
       "      <td>57</td>\n",
       "      <td>93</td>\n",
       "      <td>5.68</td>\n",
       "    </tr>\n",
       "    <tr>\n",
       "      <th>566</th>\n",
       "      <td>Santa Lucía</td>\n",
       "      <td>ES</td>\n",
       "      <td>2511150</td>\n",
       "      <td>27.9117</td>\n",
       "      <td>-15.5407</td>\n",
       "      <td>64.85</td>\n",
       "      <td>73</td>\n",
       "      <td>20</td>\n",
       "      <td>16.11</td>\n",
       "    </tr>\n",
       "    <tr>\n",
       "      <th>567</th>\n",
       "      <td>Mâncio Lima</td>\n",
       "      <td>BR</td>\n",
       "      <td>3663516</td>\n",
       "      <td>-7.6142</td>\n",
       "      <td>-72.8958</td>\n",
       "      <td>82.47</td>\n",
       "      <td>78</td>\n",
       "      <td>40</td>\n",
       "      <td>3.44</td>\n",
       "    </tr>\n",
       "  </tbody>\n",
       "</table>\n",
       "<p>560 rows × 9 columns</p>\n",
       "</div>"
      ],
      "text/plain": [
       "                City Country  City ID  Latitude  Longitude  temperature  \\\n",
       "0    Barra do Garças      BR  3470709  -15.8900   -52.2567        95.58   \n",
       "1          Geraldton      AU  2070998  -28.7667   114.6000        39.61   \n",
       "2           Ankazobe      MG  1072849  -18.3167    47.1167        59.41   \n",
       "3          Boa Vista      BR  3664980    2.8197   -60.6733        91.38   \n",
       "4        Yellowknife      CA  6185377   62.4560  -114.3525        40.35   \n",
       "..               ...     ...      ...       ...        ...          ...   \n",
       "563           Chulym      RU  1507679   55.0997    80.9572        32.09   \n",
       "564            Wajir      KE   178443    1.7471    40.0573        77.18   \n",
       "565          Lazarev      RU  2123836   52.2250   141.5131        41.99   \n",
       "566      Santa Lucía      ES  2511150   27.9117   -15.5407        64.85   \n",
       "567      Mâncio Lima      BR  3663516   -7.6142   -72.8958        82.47   \n",
       "\n",
       "     humidity  cloudiness  wind speed  \n",
       "0          41          20        5.75  \n",
       "1          93           0        5.75  \n",
       "2          65          98        1.99  \n",
       "3          49          75        6.91  \n",
       "4          89          90        1.99  \n",
       "..        ...         ...         ...  \n",
       "563        80          99        6.13  \n",
       "564        64          54       15.37  \n",
       "565        57          93        5.68  \n",
       "566        73          20       16.11  \n",
       "567        78          40        3.44  \n",
       "\n",
       "[560 rows x 9 columns]"
      ]
     },
     "execution_count": 10,
     "metadata": {},
     "output_type": "execute_result"
    }
   ],
   "source": [
    "humidity_100 = weather_data.loc[weather_data[\"humidity\"] <100]\n",
    "humidity_100"
   ]
  },
  {
   "cell_type": "code",
   "execution_count": 22,
   "metadata": {},
   "outputs": [],
   "source": [
    "#  Get the indices of cities that have humidity over 100%.\n",
    "#index = humidity_100.index\n",
    "#index"
   ]
  },
  {
   "cell_type": "code",
   "execution_count": 23,
   "metadata": {},
   "outputs": [],
   "source": [
    "# Make a new DataFrame equal to the city data to drop all humidity outliers by index.\n",
    "# Passing \"inplace=False\" will make a copy of the city_data DataFrame, which we call \"clean_city_data\".\n",
    "\n",
    "#clean_city_data = weather_data.dropna[(weather_data[\"humidity\"] != )]"
   ]
  },
  {
   "cell_type": "code",
   "execution_count": 11,
   "metadata": {
    "scrolled": true
   },
   "outputs": [
    {
     "data": {
      "text/plain": [
       "City            object\n",
       "Country         object\n",
       "City ID          int64\n",
       "Latitude       float64\n",
       "Longitude      float64\n",
       "temperature    float64\n",
       "humidity         int64\n",
       "cloudiness       int64\n",
       "wind speed     float64\n",
       "dtype: object"
      ]
     },
     "execution_count": 11,
     "metadata": {},
     "output_type": "execute_result"
    }
   ],
   "source": [
    "humidity_100.dtypes"
   ]
  },
  {
   "cell_type": "markdown",
   "metadata": {},
   "source": [
    "## Plotting the Data\n",
    "* Use proper labeling of the plots using plot titles (including date of analysis) and axes labels.\n",
    "* Save the plotted figures as .pngs."
   ]
  },
  {
   "cell_type": "markdown",
   "metadata": {},
   "source": [
    "## Latitude vs. Temperature Plot"
   ]
  },
  {
   "cell_type": "code",
   "execution_count": 12,
   "metadata": {
    "scrolled": true
   },
   "outputs": [
    {
     "data": {
      "image/png": "[encoded data removed]",
      "text/plain": [
       "<Figure size 576x576 with 1 Axes>"
      ]
     },
     "metadata": {
      "needs_background": "light"
     },
     "output_type": "display_data"
    }
   ],
   "source": [
    "humidity_100.plot(kind=\"scatter\", x=\"Latitude\", y=\"temperature\", grid=True, figsize=(8, 8),\n",
    "                  title=\"Latitude vs Temperature\")\n",
    "\n",
    "plt.savefig(\"Resources/LatvsTemp.png\")"
   ]
  },
  {
   "cell_type": "markdown",
   "metadata": {},
   "source": [
    "## Latitude vs. Humidity Plot"
   ]
  },
  {
   "cell_type": "code",
   "execution_count": 13,
   "metadata": {},
   "outputs": [
    {
     "data": {
      "image/png": "[encoded data removed]",
      "text/plain": [
       "<Figure size 576x576 with 1 Axes>"
      ]
     },
     "metadata": {
      "needs_background": "light"
     },
     "output_type": "display_data"
    }
   ],
   "source": [
    "humidity_100.plot(kind=\"scatter\", x=\"Latitude\", y=\"humidity\", grid=True, figsize=(8, 8),\n",
    "                  title=\"Latitude vs Humidity\")\n",
    "\n",
    "plt.savefig(\"Resources/LatvsHumid.png\")"
   ]
  },
  {
   "cell_type": "markdown",
   "metadata": {},
   "source": [
    "## Latitude vs. Cloudiness Plot"
   ]
  },
  {
   "cell_type": "code",
   "execution_count": 14,
   "metadata": {},
   "outputs": [
    {
     "data": {
      "image/png": "[encoded data removed]",
      "text/plain": [
       "<Figure size 576x576 with 1 Axes>"
      ]
     },
     "metadata": {
      "needs_background": "light"
     },
     "output_type": "display_data"
    }
   ],
   "source": [
    "humidity_100.plot(kind=\"scatter\", x=\"Latitude\", y=\"cloudiness\", grid=True, figsize=(8, 8),\n",
    "                  title=\"Latitude vs Cloudiness\")\n",
    "\n",
    "plt.savefig(\"Resources/LatvsCloud.png\")"
   ]
  },
  {
   "cell_type": "markdown",
   "metadata": {},
   "source": [
    "## Latitude vs. Wind Speed Plot"
   ]
  },
  {
   "cell_type": "code",
   "execution_count": 15,
   "metadata": {},
   "outputs": [
    {
     "data": {
      "image/png": "[encoded data removed]",
      "text/plain": [
       "<Figure size 576x576 with 1 Axes>"
      ]
     },
     "metadata": {
      "needs_background": "light"
     },
     "output_type": "display_data"
    }
   ],
   "source": [
    "humidity_100.plot(kind=\"scatter\", x=\"Latitude\", y=\"wind speed\", grid=True, figsize=(8, 8),\n",
    "                  title=\"Latitude vs Wind Speed\")\n",
    "\n",
    "plt.savefig(\"Resources/LatvsWind.png\")"
   ]
  },
  {
   "cell_type": "code",
   "execution_count": null,
   "metadata": {},
   "outputs": [],
   "source": []
  },
  {
   "cell_type": "markdown",
   "metadata": {},
   "source": [
    "## Linear Regression"
   ]
  },
  {
   "cell_type": "code",
   "execution_count": 16,
   "metadata": {},
   "outputs": [],
   "source": [
    "north_hem = humidity_100.loc[humidity_100[\"Latitude\"] >= 0]\n",
    "south_hem = humidity_100.loc[humidity_100[\"Latitude\"] < 0]\n",
    "east_hem = humidity_100.loc[humidity_100[\"Longitude\"] >= 0]\n",
    "west_hem = humidity_100.loc[humidity_100[\"Longitude\"] < 0]"
   ]
  },
  {
   "cell_type": "markdown",
   "metadata": {},
   "source": [
    "####  Northern Hemisphere - Max Temp vs. Latitude Linear Regression"
   ]
  },
  {
   "cell_type": "code",
   "execution_count": 17,
   "metadata": {},
   "outputs": [
    {
     "name": "stdout",
     "output_type": "stream",
     "text": [
      "The r-squared is: 0.7339331346752649\n"
     ]
    },
    {
     "data": {
      "image/png": "[encoded data removed]",
      "text/plain": [
       "<Figure size 432x288 with 1 Axes>"
      ]
     },
     "metadata": {
      "needs_background": "light"
     },
     "output_type": "display_data"
    },
    {
     "data": {
      "text/plain": [
       "<Figure size 432x288 with 0 Axes>"
      ]
     },
     "metadata": {},
     "output_type": "display_data"
    }
   ],
   "source": [
    "# Add the linear regression equation and line to plot\n",
    "x_values = north_hem['Latitude']\n",
    "y_values = north_hem['temperature']\n",
    "\n",
    "#all of these calculations are formulated by 'linregress'\n",
    "(slope, intercept, rvalue, pvalue, stderr) = linregress(x_values, y_values)\n",
    "regress_values = x_values * slope + intercept\n",
    "line_eq = \"y = \" + str(round(slope,2)) + \"x + \" + str(round(intercept,2))\n",
    "\n",
    "plt.scatter(x_values,y_values)\n",
    "\n",
    "plt.plot(x_values,regress_values,\"r-\")\n",
    "plt.annotate(line_eq,(6,10),fontsize=15,color=\"red\")\n",
    "\n",
    "plt.xlabel('Latitude')\n",
    "plt.ylabel('Temperature (F)')\n",
    "plt.title('Temperature vs Latitude Northern Hemisphere')\n",
    "print(f\"The r-squared is: {rvalue**2}\")\n",
    "plt.show()\n",
    "\n",
    "plt.savefig(\"Resources/North_LatvsTemp_LinReg.png\")"
   ]
  },
  {
   "cell_type": "markdown",
   "metadata": {},
   "source": [
    "####  Southern Hemisphere - Max Temp vs. Latitude Linear Regression"
   ]
  },
  {
   "cell_type": "code",
   "execution_count": 18,
   "metadata": {},
   "outputs": [
    {
     "name": "stdout",
     "output_type": "stream",
     "text": [
      "The r-squared is: 0.5431018322002011\n"
     ]
    },
    {
     "data": {
      "image/png": "[encoded data removed]",
      "text/plain": [
       "<Figure size 432x288 with 1 Axes>"
      ]
     },
     "metadata": {
      "needs_background": "light"
     },
     "output_type": "display_data"
    },
    {
     "data": {
      "text/plain": [
       "<Figure size 432x288 with 0 Axes>"
      ]
     },
     "metadata": {},
     "output_type": "display_data"
    }
   ],
   "source": [
    "# Add the linear regression equation and line to plot\n",
    "x_values = south_hem['Latitude']\n",
    "y_values = south_hem['temperature']\n",
    "\n",
    "#all of these calculations are formulated by 'linregress'\n",
    "(slope, intercept, rvalue, pvalue, stderr) = linregress(x_values, y_values)\n",
    "regress_values = x_values * slope + intercept\n",
    "line_eq = \"y = \" + str(round(slope,2)) + \"x + \" + str(round(intercept,2))\n",
    "\n",
    "plt.scatter(x_values,y_values)\n",
    "\n",
    "plt.plot(x_values,regress_values,\"r-\")\n",
    "plt.annotate(line_eq,(6,10),fontsize=15,color=\"red\")\n",
    "\n",
    "plt.xlabel('Latitude')\n",
    "plt.ylabel('Temperature (F)')\n",
    "plt.title('Temperature vs Latitude Southern Hemisphere')\n",
    "print(f\"The r-squared is: {rvalue**2}\")\n",
    "plt.show()\n",
    "\n",
    "\n",
    "plt.savefig(\"Resources/South_LatvsTemp_LinReg.png\")"
   ]
  },
  {
   "cell_type": "markdown",
   "metadata": {},
   "source": [
    "#### Eastern Hemisphere - Max Temp vs. Longitude Linear Regression "
   ]
  },
  {
   "cell_type": "code",
   "execution_count": 19,
   "metadata": {},
   "outputs": [
    {
     "name": "stdout",
     "output_type": "stream",
     "text": [
      "The r-squared is: 0.005117010296261758\n"
     ]
    },
    {
     "data": {
      "image/png": "[encoded data removed]",
      "text/plain": [
       "<Figure size 432x288 with 1 Axes>"
      ]
     },
     "metadata": {
      "needs_background": "light"
     },
     "output_type": "display_data"
    },
    {
     "data": {
      "text/plain": [
       "<Figure size 432x288 with 0 Axes>"
      ]
     },
     "metadata": {},
     "output_type": "display_data"
    }
   ],
   "source": [
    "# Add the linear regression equation and line to plot\n",
    "x_values = east_hem['Longitude']\n",
    "y_values = east_hem['temperature']\n",
    "\n",
    "#all of these calculations are formulated by 'linregress'\n",
    "(slope, intercept, rvalue, pvalue, stderr) = linregress(x_values, y_values)\n",
    "regress_values = x_values * slope + intercept\n",
    "line_eq = \"y = \" + str(round(slope,2)) + \"x + \" + str(round(intercept,2))\n",
    "\n",
    "plt.scatter(x_values,y_values)\n",
    "\n",
    "plt.plot(x_values,regress_values,\"r-\")\n",
    "plt.annotate(line_eq,(6,10),fontsize=15,color=\"red\")\n",
    "\n",
    "plt.xlabel('Longitude')\n",
    "plt.ylabel('Temperature (F)')\n",
    "plt.title('Temperature vs Longitude Eastern Hemisphere')\n",
    "print(f\"The r-squared is: {rvalue**2}\")\n",
    "plt.show()\n",
    "\n",
    "\n",
    "plt.savefig(\"Resources/East_LatvsTemp_LinReg.png\")"
   ]
  },
  {
   "cell_type": "markdown",
   "metadata": {},
   "source": [
    "####  Northern Hemisphere - Humidity (%) vs. Latitude Linear Regression"
   ]
  },
  {
   "cell_type": "code",
   "execution_count": 32,
   "metadata": {},
   "outputs": [
    {
     "name": "stdout",
     "output_type": "stream",
     "text": [
      "The r-squared is: 0.13883068485966296\n"
     ]
    },
    {
     "data": {
      "image/png": "[encoded data removed]",
      "text/plain": [
       "<Figure size 432x288 with 1 Axes>"
      ]
     },
     "metadata": {
      "needs_background": "light"
     },
     "output_type": "display_data"
    },
    {
     "data": {
      "text/plain": [
       "<Figure size 432x288 with 0 Axes>"
      ]
     },
     "metadata": {},
     "output_type": "display_data"
    }
   ],
   "source": [
    "# Add the linear regression equation and line to plot\n",
    "x_values = north_hem['Latitude']\n",
    "y_values = north_hem['humidity']\n",
    "\n",
    "#all of these calculations are formulated by 'linregress'\n",
    "(slope, intercept, rvalue, pvalue, stderr) = linregress(x_values, y_values)\n",
    "regress_values = x_values * slope + intercept\n",
    "line_eq = \"y = \" + str(round(slope,2)) + \"x + \" + str(round(intercept,2))\n",
    "\n",
    "plt.scatter(x_values,y_values)\n",
    "\n",
    "plt.plot(x_values,regress_values,\"r-\")\n",
    "plt.annotate(line_eq,(6,10),fontsize=15,color=\"red\")\n",
    "\n",
    "plt.xlabel('Latitude')\n",
    "plt.ylabel('Humidity (%))')\n",
    "plt.title('Humidity vs Latitude Northern Hemisphere')\n",
    "print(f\"The r-squared is: {rvalue**2}\")\n",
    "plt.show()\n",
    "\n",
    "plt.savefig(\"Resources/North_LatvsHumid_LinReg.png\")"
   ]
  },
  {
   "cell_type": "markdown",
   "metadata": {},
   "source": [
    "####  Southern Hemisphere - Humidity (%) vs. Latitude Linear Regression"
   ]
  },
  {
   "cell_type": "code",
   "execution_count": 33,
   "metadata": {},
   "outputs": [
    {
     "name": "stdout",
     "output_type": "stream",
     "text": [
      "The r-squared is: 0.08964010538631383\n"
     ]
    },
    {
     "data": {
      "image/png": "[encoded data removed]",
      "text/plain": [
       "<Figure size 432x288 with 1 Axes>"
      ]
     },
     "metadata": {
      "needs_background": "light"
     },
     "output_type": "display_data"
    },
    {
     "data": {
      "text/plain": [
       "<Figure size 432x288 with 0 Axes>"
      ]
     },
     "metadata": {},
     "output_type": "display_data"
    }
   ],
   "source": [
    "# Add the linear regression equation and line to plot\n",
    "x_values = south_hem['Latitude']\n",
    "y_values = south_hem['humidity']\n",
    "\n",
    "#all of these calculations are formulated by 'linregress'\n",
    "(slope, intercept, rvalue, pvalue, stderr) = linregress(x_values, y_values)\n",
    "regress_values = x_values * slope + intercept\n",
    "line_eq = \"y = \" + str(round(slope,2)) + \"x + \" + str(round(intercept,2))\n",
    "\n",
    "plt.scatter(x_values,y_values)\n",
    "\n",
    "plt.plot(x_values,regress_values,\"r-\")\n",
    "plt.annotate(line_eq,(6,10),fontsize=15,color=\"red\")\n",
    "\n",
    "plt.xlabel('Latitude')\n",
    "plt.ylabel('Humidity (%))')\n",
    "plt.title('Humidity vs Latitude Southern Hemisphere')\n",
    "print(f\"The r-squared is: {rvalue**2}\")\n",
    "plt.show()\n",
    "\n",
    "plt.savefig(\"Resources/South_LatvsHumid_LinReg.png\")"
   ]
  },
  {
   "cell_type": "markdown",
   "metadata": {},
   "source": [
    "####  Northern Hemisphere - Cloudiness (%) vs. Latitude Linear Regression"
   ]
  },
  {
   "cell_type": "code",
   "execution_count": 34,
   "metadata": {},
   "outputs": [
    {
     "name": "stdout",
     "output_type": "stream",
     "text": [
      "The r-squared is: 0.08655338429428056\n"
     ]
    },
    {
     "data": {
      "image/png": "[encoded data removed]",
      "text/plain": [
       "<Figure size 432x288 with 1 Axes>"
      ]
     },
     "metadata": {
      "needs_background": "light"
     },
     "output_type": "display_data"
    },
    {
     "data": {
      "text/plain": [
       "<Figure size 432x288 with 0 Axes>"
      ]
     },
     "metadata": {},
     "output_type": "display_data"
    }
   ],
   "source": [
    "x_values = north_hem['Latitude']\n",
    "y_values = north_hem['cloudiness']\n",
    "\n",
    "#all of these calculations are formulated by 'linregress'\n",
    "(slope, intercept, rvalue, pvalue, stderr) = linregress(x_values, y_values)\n",
    "regress_values = x_values * slope + intercept\n",
    "line_eq = \"y = \" + str(round(slope,2)) + \"x + \" + str(round(intercept,2))\n",
    "\n",
    "plt.scatter(x_values,y_values)\n",
    "\n",
    "plt.plot(x_values,regress_values,\"r-\")\n",
    "plt.annotate(line_eq,(6,10),fontsize=15,color=\"red\")\n",
    "\n",
    "plt.xlabel('Latitude')\n",
    "plt.ylabel('Cloudiness (%))')\n",
    "plt.title('Cloudiness vs Latitude Northern Hemisphere')\n",
    "print(f\"The r-squared is: {rvalue**2}\")\n",
    "plt.show()\n",
    "\n",
    "plt.savefig(\"Resources/North_LatvsCloud_LinReg.png\")"
   ]
  },
  {
   "cell_type": "markdown",
   "metadata": {},
   "source": [
    "####  Southern Hemisphere - Cloudiness (%) vs. Latitude Linear Regression"
   ]
  },
  {
   "cell_type": "code",
   "execution_count": 35,
   "metadata": {},
   "outputs": [
    {
     "name": "stdout",
     "output_type": "stream",
     "text": [
      "The r-squared is: 0.18780196264933602\n"
     ]
    },
    {
     "data": {
      "image/png": "[encoded data removed]",
      "text/plain": [
       "<Figure size 432x288 with 1 Axes>"
      ]
     },
     "metadata": {
      "needs_background": "light"
     },
     "output_type": "display_data"
    },
    {
     "data": {
      "text/plain": [
       "<Figure size 432x288 with 0 Axes>"
      ]
     },
     "metadata": {},
     "output_type": "display_data"
    }
   ],
   "source": [
    "x_values = south_hem['Latitude']\n",
    "y_values = south_hem['cloudiness']\n",
    "\n",
    "#all of these calculations are formulated by 'linregress'\n",
    "(slope, intercept, rvalue, pvalue, stderr) = linregress(x_values, y_values)\n",
    "regress_values = x_values * slope + intercept\n",
    "line_eq = \"y = \" + str(round(slope,2)) + \"x + \" + str(round(intercept,2))\n",
    "\n",
    "plt.scatter(x_values,y_values)\n",
    "\n",
    "plt.plot(x_values,regress_values,\"r-\")\n",
    "plt.annotate(line_eq,(6,10),fontsize=15,color=\"red\")\n",
    "\n",
    "plt.xlabel('Latitude')\n",
    "plt.ylabel('Cloudiness (%))')\n",
    "plt.title('Cloudiness vs Latitude Southern Hemisphere')\n",
    "print(f\"The r-squared is: {rvalue**2}\")\n",
    "plt.show()\n",
    "\n",
    "plt.savefig(\"Resources/South_LatvsCloud_LinReg.png\")"
   ]
  },
  {
   "cell_type": "markdown",
   "metadata": {},
   "source": [
    "####  Northern Hemisphere - Wind Speed (mph) vs. Latitude Linear Regression"
   ]
  },
  {
   "cell_type": "code",
   "execution_count": 36,
   "metadata": {},
   "outputs": [
    {
     "name": "stdout",
     "output_type": "stream",
     "text": [
      "The r-squared is: 0.0005654511899553861\n"
     ]
    },
    {
     "data": {
      "image/png": "[encoded data removed]",
      "text/plain": [
       "<Figure size 432x288 with 1 Axes>"
      ]
     },
     "metadata": {
      "needs_background": "light"
     },
     "output_type": "display_data"
    },
    {
     "data": {
      "text/plain": [
       "<Figure size 432x288 with 0 Axes>"
      ]
     },
     "metadata": {},
     "output_type": "display_data"
    }
   ],
   "source": [
    "x_values = north_hem['Latitude']\n",
    "y_values = north_hem['wind speed']\n",
    "\n",
    "#all of these calculations are formulated by 'linregress'\n",
    "(slope, intercept, rvalue, pvalue, stderr) = linregress(x_values, y_values)\n",
    "regress_values = x_values * slope + intercept\n",
    "line_eq = \"y = \" + str(round(slope,2)) + \"x + \" + str(round(intercept,2))\n",
    "\n",
    "plt.scatter(x_values,y_values)\n",
    "\n",
    "plt.plot(x_values,regress_values,\"r-\")\n",
    "plt.annotate(line_eq,(6,10),fontsize=15,color=\"red\")\n",
    "\n",
    "plt.xlabel('Latitude')\n",
    "plt.ylabel('Wind Speed (mph))')\n",
    "plt.title('Wind Speed vs Latitude Northern Hemisphere')\n",
    "print(f\"The r-squared is: {rvalue**2}\")\n",
    "plt.show()\n",
    "\n",
    "plt.savefig(\"Resources/North_LatvsWind_LinReg.png\")"
   ]
  },
  {
   "cell_type": "markdown",
   "metadata": {},
   "source": [
    "####  Southern Hemisphere - Wind Speed (mph) vs. Latitude Linear Regression"
   ]
  },
  {
   "cell_type": "code",
   "execution_count": 37,
   "metadata": {},
   "outputs": [
    {
     "name": "stdout",
     "output_type": "stream",
     "text": [
      "The r-squared is: 0.06990885056369327\n"
     ]
    },
    {
     "data": {
      "image/png": "[encoded data removed]",
      "text/plain": [
       "<Figure size 432x288 with 1 Axes>"
      ]
     },
     "metadata": {
      "needs_background": "light"
     },
     "output_type": "display_data"
    },
    {
     "data": {
      "text/plain": [
       "<Figure size 432x288 with 0 Axes>"
      ]
     },
     "metadata": {},
     "output_type": "display_data"
    }
   ],
   "source": [
    "x_values = south_hem['Latitude']\n",
    "y_values = south_hem['wind speed']\n",
    "\n",
    "#all of these calculations are formulated by 'linregress'\n",
    "(slope, intercept, rvalue, pvalue, stderr) = linregress(x_values, y_values)\n",
    "regress_values = x_values * slope + intercept\n",
    "line_eq = \"y = \" + str(round(slope,2)) + \"x + \" + str(round(intercept,2))\n",
    "\n",
    "plt.scatter(x_values,y_values)\n",
    "\n",
    "plt.plot(x_values,regress_values,\"r-\")\n",
    "plt.annotate(line_eq,(6,10),fontsize=15,color=\"red\")\n",
    "\n",
    "plt.xlabel('Latitude')\n",
    "plt.ylabel('Wind Speed (mph))')\n",
    "plt.title('Wind Speed vs Latitude Southern Hemisphere')\n",
    "print(f\"The r-squared is: {rvalue**2}\")\n",
    "plt.show()\n",
    "\n",
    "plt.savefig(\"Resources/South_LatvsWind_LinReg.png\")"
   ]
  },
  {
   "cell_type": "code",
   "execution_count": null,
   "metadata": {},
   "outputs": [],
   "source": []
  },
  {
   "cell_type": "code",
   "execution_count": null,
   "metadata": {},
   "outputs": [],
   "source": []
  }
 ],
 "metadata": {
  "anaconda-cloud": {},
  "kernel_info": {
   "name": "python3"
  },
  "kernelspec": {
   "display_name": "Python 3",
   "language": "python",
   "name": "python3"
  },
  "language_info": {
   "codemirror_mode": {
    "name": "ipython",
    "version": 3
   },
   "file_extension": ".py",
   "mimetype": "text/x-python",
   "name": "python",
   "nbconvert_exporter": "python",
   "pygments_lexer": "ipython3",
   "version": "3.8.3"
  },
  "latex_envs": {
   "LaTeX_envs_menu_present": true,
   "autoclose": false,
   "autocomplete": true,
   "bibliofile": "biblio.bib",
   "cite_by": "apalike",
   "current_citInitial": 1,
   "eqLabelWithNumbers": true,
   "eqNumInitial": 1,
   "hotkeys": {
    "equation": "Ctrl-E",
    "itemize": "Ctrl-I"
   },
   "labels_anchors": false,
   "latex_user_defs": false,
   "report_style_numbering": false,
   "user_envs_cfg": false
  },
  "nteract": {
   "version": "0.12.3"
  }
 },
 "nbformat": 4,
 "nbformat_minor": 2
}
